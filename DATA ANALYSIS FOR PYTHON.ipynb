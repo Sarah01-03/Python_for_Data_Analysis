{
 "cells": [
  {
   "cell_type": "code",
   "execution_count": null,
   "id": "90c325c5",
   "metadata": {},
   "outputs": [],
   "source": [
    "\n",
    "# two major libraries in python for data analysis are: Pandas & Numpy (numerical python)\n",
    "\n",
    "Numpy handles mostly numeric values in data analysis for python\n",
    "Pandas handles the data manipulation in datasets.\n",
    "\n",
    "the two data structures in pandas are: series (one dimensional array) and data frames(multidimensionl dataset).\n",
    "\n",
    "import numpy as np and import pandas as pd are Aliases\n",
    "\n",
    "DataFrame is specified as \"df\". df using pandas turns a dictionary to a table.\n"
   ]
  },
  {
   "cell_type": "code",
   "execution_count": null,
   "id": "0e8c0836",
   "metadata": {},
   "outputs": [],
   "source": [
    "N.B; Anytime you use for, else, if, def the next line must be indented\n",
    "     nothing should written on the same line with \"def\""
   ]
  },
  {
   "cell_type": "code",
   "execution_count": 1,
   "id": "c7970137",
   "metadata": {},
   "outputs": [],
   "source": [
    "x=[1,2,3,4]"
   ]
  },
  {
   "cell_type": "code",
   "execution_count": 3,
   "id": "422875a7",
   "metadata": {},
   "outputs": [],
   "source": [
    "import numpy as np"
   ]
  },
  {
   "cell_type": "code",
   "execution_count": 6,
   "id": "bc9a8990",
   "metadata": {},
   "outputs": [],
   "source": [
    "ar= np.array(x)"
   ]
  },
  {
   "cell_type": "code",
   "execution_count": 15,
   "id": "b9536f6a",
   "metadata": {},
   "outputs": [
    {
     "data": {
      "text/plain": [
       "array([1, 2, 3, 4])"
      ]
     },
     "execution_count": 15,
     "metadata": {},
     "output_type": "execute_result"
    }
   ],
   "source": [
    "ar"
   ]
  },
  {
   "cell_type": "code",
   "execution_count": 16,
   "id": "ad8f2692",
   "metadata": {},
   "outputs": [],
   "source": [
    "import pandas as pd"
   ]
  },
  {
   "cell_type": "code",
   "execution_count": 18,
   "id": "bbd687e0",
   "metadata": {},
   "outputs": [],
   "source": [
    "series= pd.Series(ar)"
   ]
  },
  {
   "cell_type": "code",
   "execution_count": 19,
   "id": "506950b7",
   "metadata": {},
   "outputs": [
    {
     "data": {
      "text/plain": [
       "0    1\n",
       "1    2\n",
       "2    3\n",
       "3    4\n",
       "dtype: int32"
      ]
     },
     "execution_count": 19,
     "metadata": {},
     "output_type": "execute_result"
    }
   ],
   "source": [
    "series"
   ]
  },
  {
   "cell_type": "code",
   "execution_count": 1,
   "id": "60aa6e01",
   "metadata": {},
   "outputs": [],
   "source": [
    "dict={'name': ['peter','mary','john','ben'],\n",
    "      'age': [30,25,35,40],\n",
    "      'marital status': ['s','s','m','m'],\n",
    "      'salary': [10000,20000,30000,40000]}"
   ]
  },
  {
   "cell_type": "code",
   "execution_count": 2,
   "id": "5274f99d",
   "metadata": {},
   "outputs": [
    {
     "data": {
      "text/html": [
       "<div>\n",
       "<style scoped>\n",
       "    .dataframe tbody tr th:only-of-type {\n",
       "        vertical-align: middle;\n",
       "    }\n",
       "\n",
       "    .dataframe tbody tr th {\n",
       "        vertical-align: top;\n",
       "    }\n",
       "\n",
       "    .dataframe thead th {\n",
       "        text-align: right;\n",
       "    }\n",
       "</style>\n",
       "<table border=\"1\" class=\"dataframe\">\n",
       "  <thead>\n",
       "    <tr style=\"text-align: right;\">\n",
       "      <th></th>\n",
       "      <th>name</th>\n",
       "      <th>age</th>\n",
       "      <th>marital status</th>\n",
       "      <th>salary</th>\n",
       "    </tr>\n",
       "  </thead>\n",
       "  <tbody>\n",
       "    <tr>\n",
       "      <th>0</th>\n",
       "      <td>peter</td>\n",
       "      <td>30</td>\n",
       "      <td>s</td>\n",
       "      <td>10000</td>\n",
       "    </tr>\n",
       "    <tr>\n",
       "      <th>1</th>\n",
       "      <td>mary</td>\n",
       "      <td>25</td>\n",
       "      <td>s</td>\n",
       "      <td>20000</td>\n",
       "    </tr>\n",
       "    <tr>\n",
       "      <th>2</th>\n",
       "      <td>john</td>\n",
       "      <td>35</td>\n",
       "      <td>m</td>\n",
       "      <td>30000</td>\n",
       "    </tr>\n",
       "    <tr>\n",
       "      <th>3</th>\n",
       "      <td>ben</td>\n",
       "      <td>40</td>\n",
       "      <td>m</td>\n",
       "      <td>40000</td>\n",
       "    </tr>\n",
       "  </tbody>\n",
       "</table>\n",
       "</div>"
      ],
      "text/plain": [
       "    name  age marital status  salary\n",
       "0  peter   30              s   10000\n",
       "1   mary   25              s   20000\n",
       "2   john   35              m   30000\n",
       "3    ben   40              m   40000"
      ]
     },
     "execution_count": 2,
     "metadata": {},
     "output_type": "execute_result"
    }
   ],
   "source": [
    "import numpy as np\n",
    "import pandas as pd\n",
    "\n",
    "df= pd.DataFrame(dict)\n",
    "df"
   ]
  },
  {
   "cell_type": "code",
   "execution_count": 3,
   "id": "4c73c69e",
   "metadata": {},
   "outputs": [
    {
     "name": "stdout",
     "output_type": "stream",
     "text": [
      "<class 'pandas.core.frame.DataFrame'>\n",
      "RangeIndex: 4 entries, 0 to 3\n",
      "Data columns (total 4 columns):\n",
      " #   Column          Non-Null Count  Dtype \n",
      "---  ------          --------------  ----- \n",
      " 0   name            4 non-null      object\n",
      " 1   age             4 non-null      int64 \n",
      " 2   marital status  4 non-null      object\n",
      " 3   salary          4 non-null      int64 \n",
      "dtypes: int64(2), object(2)\n",
      "memory usage: 256.0+ bytes\n"
     ]
    }
   ],
   "source": [
    "# to check the information in a dataset (table)\n",
    "\n",
    "df.info()"
   ]
  },
  {
   "cell_type": "code",
   "execution_count": 4,
   "id": "4f487ecf",
   "metadata": {},
   "outputs": [],
   "source": [
    "# object is the same thing as sting. Therefore, string in python is object in panda"
   ]
  },
  {
   "cell_type": "code",
   "execution_count": 5,
   "id": "c1dbf212",
   "metadata": {},
   "outputs": [
    {
     "data": {
      "text/plain": [
       "Index(['name', 'age', 'marital status', 'salary'], dtype='object')"
      ]
     },
     "execution_count": 5,
     "metadata": {},
     "output_type": "execute_result"
    }
   ],
   "source": [
    "# to display all the columns in a dataset\n",
    "\n",
    "df.columns"
   ]
  },
  {
   "cell_type": "code",
   "execution_count": 6,
   "id": "d86f7379",
   "metadata": {},
   "outputs": [
    {
     "data": {
      "text/plain": [
       "(4, 4)"
      ]
     },
     "execution_count": 6,
     "metadata": {},
     "output_type": "execute_result"
    }
   ],
   "source": [
    "# to display(check) the shape (no. of columns and rows) of a dataset\n",
    "\n",
    "df.shape"
   ]
  },
  {
   "cell_type": "code",
   "execution_count": 7,
   "id": "3d6a0dbb",
   "metadata": {},
   "outputs": [
    {
     "data": {
      "text/plain": [
       "name              0\n",
       "age               0\n",
       "marital status    0\n",
       "salary            0\n",
       "dtype: int64"
      ]
     },
     "execution_count": 7,
     "metadata": {},
     "output_type": "execute_result"
    }
   ],
   "source": [
    "# to display(check) for null values\n",
    "\n",
    "df.isnull().sum()"
   ]
  },
  {
   "cell_type": "code",
   "execution_count": 8,
   "id": "417897ad",
   "metadata": {},
   "outputs": [
    {
     "data": {
      "text/plain": [
       "name              0\n",
       "age               0\n",
       "marital status    0\n",
       "salary            0\n",
       "dtype: int64"
      ]
     },
     "execution_count": 8,
     "metadata": {},
     "output_type": "execute_result"
    }
   ],
   "source": [
    "df.isna().sum()"
   ]
  },
  {
   "cell_type": "code",
   "execution_count": 9,
   "id": "1e5d7b8c",
   "metadata": {},
   "outputs": [],
   "source": [
    "# the result above, shows that there is no missing data in the dataset\n",
    "\n",
    "#python does no allow spaces between words"
   ]
  },
  {
   "cell_type": "code",
   "execution_count": 10,
   "id": "9e0d44b8",
   "metadata": {},
   "outputs": [],
   "source": [
    "#                                How to rename a column"
   ]
  },
  {
   "cell_type": "code",
   "execution_count": 11,
   "id": "7d8c2d08",
   "metadata": {},
   "outputs": [],
   "source": [
    "# how to call a column\n",
    "\n",
    "#df['age'] or df.age   (ALWAYS GO WITH THE FIRST ONE)"
   ]
  },
  {
   "cell_type": "code",
   "execution_count": 12,
   "id": "155b66ed",
   "metadata": {},
   "outputs": [],
   "source": [
    "#                                How to rename a column"
   ]
  },
  {
   "cell_type": "code",
   "execution_count": 13,
   "id": "32cfbe44",
   "metadata": {},
   "outputs": [],
   "source": [
    "df=df.rename({'age':'age_limit'}, axis='columns')"
   ]
  },
  {
   "cell_type": "code",
   "execution_count": 14,
   "id": "72e56e05",
   "metadata": {},
   "outputs": [
    {
     "data": {
      "text/html": [
       "<div>\n",
       "<style scoped>\n",
       "    .dataframe tbody tr th:only-of-type {\n",
       "        vertical-align: middle;\n",
       "    }\n",
       "\n",
       "    .dataframe tbody tr th {\n",
       "        vertical-align: top;\n",
       "    }\n",
       "\n",
       "    .dataframe thead th {\n",
       "        text-align: right;\n",
       "    }\n",
       "</style>\n",
       "<table border=\"1\" class=\"dataframe\">\n",
       "  <thead>\n",
       "    <tr style=\"text-align: right;\">\n",
       "      <th></th>\n",
       "      <th>name</th>\n",
       "      <th>age_limit</th>\n",
       "      <th>marital status</th>\n",
       "      <th>salary</th>\n",
       "    </tr>\n",
       "  </thead>\n",
       "  <tbody>\n",
       "    <tr>\n",
       "      <th>0</th>\n",
       "      <td>peter</td>\n",
       "      <td>30</td>\n",
       "      <td>s</td>\n",
       "      <td>10000</td>\n",
       "    </tr>\n",
       "    <tr>\n",
       "      <th>1</th>\n",
       "      <td>mary</td>\n",
       "      <td>25</td>\n",
       "      <td>s</td>\n",
       "      <td>20000</td>\n",
       "    </tr>\n",
       "    <tr>\n",
       "      <th>2</th>\n",
       "      <td>john</td>\n",
       "      <td>35</td>\n",
       "      <td>m</td>\n",
       "      <td>30000</td>\n",
       "    </tr>\n",
       "    <tr>\n",
       "      <th>3</th>\n",
       "      <td>ben</td>\n",
       "      <td>40</td>\n",
       "      <td>m</td>\n",
       "      <td>40000</td>\n",
       "    </tr>\n",
       "  </tbody>\n",
       "</table>\n",
       "</div>"
      ],
      "text/plain": [
       "    name  age_limit marital status  salary\n",
       "0  peter         30              s   10000\n",
       "1   mary         25              s   20000\n",
       "2   john         35              m   30000\n",
       "3    ben         40              m   40000"
      ]
     },
     "execution_count": 14,
     "metadata": {},
     "output_type": "execute_result"
    }
   ],
   "source": [
    "df"
   ]
  },
  {
   "cell_type": "code",
   "execution_count": 26,
   "id": "55f8d42b",
   "metadata": {},
   "outputs": [],
   "source": [
    "#                           How to replace a value"
   ]
  },
  {
   "cell_type": "code",
   "execution_count": 27,
   "id": "4274c7e3",
   "metadata": {},
   "outputs": [],
   "source": [
    "dict1= {'name': ['peter','mary','john','ben'],\n",
    "      'age': [30,25,35,'40\"'],\n",
    "      'marital status': ['s','s','m','m'],\n",
    "      'salary': [10000,20000,30000,40000]}"
   ]
  },
  {
   "cell_type": "code",
   "execution_count": 28,
   "id": "f8d8b070",
   "metadata": {},
   "outputs": [],
   "source": [
    "# to display your dictionary in a table\n",
    "\n",
    "df1= pd.DataFrame(dict1) "
   ]
  },
  {
   "cell_type": "code",
   "execution_count": 29,
   "id": "593e0503",
   "metadata": {},
   "outputs": [
    {
     "data": {
      "text/html": [
       "<div>\n",
       "<style scoped>\n",
       "    .dataframe tbody tr th:only-of-type {\n",
       "        vertical-align: middle;\n",
       "    }\n",
       "\n",
       "    .dataframe tbody tr th {\n",
       "        vertical-align: top;\n",
       "    }\n",
       "\n",
       "    .dataframe thead th {\n",
       "        text-align: right;\n",
       "    }\n",
       "</style>\n",
       "<table border=\"1\" class=\"dataframe\">\n",
       "  <thead>\n",
       "    <tr style=\"text-align: right;\">\n",
       "      <th></th>\n",
       "      <th>name</th>\n",
       "      <th>age</th>\n",
       "      <th>marital status</th>\n",
       "      <th>salary</th>\n",
       "    </tr>\n",
       "  </thead>\n",
       "  <tbody>\n",
       "    <tr>\n",
       "      <th>0</th>\n",
       "      <td>peter</td>\n",
       "      <td>30</td>\n",
       "      <td>s</td>\n",
       "      <td>10000</td>\n",
       "    </tr>\n",
       "    <tr>\n",
       "      <th>1</th>\n",
       "      <td>mary</td>\n",
       "      <td>25</td>\n",
       "      <td>s</td>\n",
       "      <td>20000</td>\n",
       "    </tr>\n",
       "    <tr>\n",
       "      <th>2</th>\n",
       "      <td>john</td>\n",
       "      <td>35</td>\n",
       "      <td>m</td>\n",
       "      <td>30000</td>\n",
       "    </tr>\n",
       "    <tr>\n",
       "      <th>3</th>\n",
       "      <td>ben</td>\n",
       "      <td>40\"</td>\n",
       "      <td>m</td>\n",
       "      <td>40000</td>\n",
       "    </tr>\n",
       "  </tbody>\n",
       "</table>\n",
       "</div>"
      ],
      "text/plain": [
       "    name  age marital status  salary\n",
       "0  peter   30              s   10000\n",
       "1   mary   25              s   20000\n",
       "2   john   35              m   30000\n",
       "3    ben  40\"              m   40000"
      ]
     },
     "execution_count": 29,
     "metadata": {},
     "output_type": "execute_result"
    }
   ],
   "source": [
    "df1"
   ]
  },
  {
   "cell_type": "code",
   "execution_count": 30,
   "id": "9d3627e6",
   "metadata": {},
   "outputs": [
    {
     "name": "stdout",
     "output_type": "stream",
     "text": [
      "<class 'pandas.core.frame.DataFrame'>\n",
      "RangeIndex: 4 entries, 0 to 3\n",
      "Data columns (total 4 columns):\n",
      " #   Column          Non-Null Count  Dtype \n",
      "---  ------          --------------  ----- \n",
      " 0   name            4 non-null      object\n",
      " 1   age             4 non-null      object\n",
      " 2   marital status  4 non-null      object\n",
      " 3   salary          4 non-null      int64 \n",
      "dtypes: int64(1), object(3)\n",
      "memory usage: 256.0+ bytes\n"
     ]
    }
   ],
   "source": [
    "df1.info()"
   ]
  },
  {
   "cell_type": "code",
   "execution_count": 31,
   "id": "b4cd6adc",
   "metadata": {},
   "outputs": [],
   "source": [
    "# to take way the column in age (affected column)\n",
    "\n",
    "df1=df1.replace({'\"':''}, regex=True)"
   ]
  },
  {
   "cell_type": "code",
   "execution_count": 32,
   "id": "e4e52324",
   "metadata": {},
   "outputs": [
    {
     "data": {
      "text/html": [
       "<div>\n",
       "<style scoped>\n",
       "    .dataframe tbody tr th:only-of-type {\n",
       "        vertical-align: middle;\n",
       "    }\n",
       "\n",
       "    .dataframe tbody tr th {\n",
       "        vertical-align: top;\n",
       "    }\n",
       "\n",
       "    .dataframe thead th {\n",
       "        text-align: right;\n",
       "    }\n",
       "</style>\n",
       "<table border=\"1\" class=\"dataframe\">\n",
       "  <thead>\n",
       "    <tr style=\"text-align: right;\">\n",
       "      <th></th>\n",
       "      <th>name</th>\n",
       "      <th>age</th>\n",
       "      <th>marital status</th>\n",
       "      <th>salary</th>\n",
       "    </tr>\n",
       "  </thead>\n",
       "  <tbody>\n",
       "    <tr>\n",
       "      <th>0</th>\n",
       "      <td>peter</td>\n",
       "      <td>30</td>\n",
       "      <td>s</td>\n",
       "      <td>10000</td>\n",
       "    </tr>\n",
       "    <tr>\n",
       "      <th>1</th>\n",
       "      <td>mary</td>\n",
       "      <td>25</td>\n",
       "      <td>s</td>\n",
       "      <td>20000</td>\n",
       "    </tr>\n",
       "    <tr>\n",
       "      <th>2</th>\n",
       "      <td>john</td>\n",
       "      <td>35</td>\n",
       "      <td>m</td>\n",
       "      <td>30000</td>\n",
       "    </tr>\n",
       "    <tr>\n",
       "      <th>3</th>\n",
       "      <td>ben</td>\n",
       "      <td>40</td>\n",
       "      <td>m</td>\n",
       "      <td>40000</td>\n",
       "    </tr>\n",
       "  </tbody>\n",
       "</table>\n",
       "</div>"
      ],
      "text/plain": [
       "    name age marital status  salary\n",
       "0  peter  30              s   10000\n",
       "1   mary  25              s   20000\n",
       "2   john  35              m   30000\n",
       "3    ben  40              m   40000"
      ]
     },
     "execution_count": 32,
     "metadata": {},
     "output_type": "execute_result"
    }
   ],
   "source": [
    "df1"
   ]
  },
  {
   "cell_type": "code",
   "execution_count": 33,
   "id": "c0e5b006",
   "metadata": {},
   "outputs": [],
   "source": [
    "# 'regex' means regular expression"
   ]
  },
  {
   "cell_type": "code",
   "execution_count": 34,
   "id": "7b530617",
   "metadata": {},
   "outputs": [],
   "source": [
    "# To change the age column(or the affected column) to integer\n",
    "\n",
    "df1['age']= pd.to_numeric(df1['age'])"
   ]
  },
  {
   "cell_type": "code",
   "execution_count": 35,
   "id": "63e00490",
   "metadata": {},
   "outputs": [
    {
     "data": {
      "text/html": [
       "<div>\n",
       "<style scoped>\n",
       "    .dataframe tbody tr th:only-of-type {\n",
       "        vertical-align: middle;\n",
       "    }\n",
       "\n",
       "    .dataframe tbody tr th {\n",
       "        vertical-align: top;\n",
       "    }\n",
       "\n",
       "    .dataframe thead th {\n",
       "        text-align: right;\n",
       "    }\n",
       "</style>\n",
       "<table border=\"1\" class=\"dataframe\">\n",
       "  <thead>\n",
       "    <tr style=\"text-align: right;\">\n",
       "      <th></th>\n",
       "      <th>name</th>\n",
       "      <th>age</th>\n",
       "      <th>marital status</th>\n",
       "      <th>salary</th>\n",
       "    </tr>\n",
       "  </thead>\n",
       "  <tbody>\n",
       "    <tr>\n",
       "      <th>0</th>\n",
       "      <td>peter</td>\n",
       "      <td>30</td>\n",
       "      <td>s</td>\n",
       "      <td>10000</td>\n",
       "    </tr>\n",
       "    <tr>\n",
       "      <th>1</th>\n",
       "      <td>mary</td>\n",
       "      <td>25</td>\n",
       "      <td>s</td>\n",
       "      <td>20000</td>\n",
       "    </tr>\n",
       "    <tr>\n",
       "      <th>2</th>\n",
       "      <td>john</td>\n",
       "      <td>35</td>\n",
       "      <td>m</td>\n",
       "      <td>30000</td>\n",
       "    </tr>\n",
       "    <tr>\n",
       "      <th>3</th>\n",
       "      <td>ben</td>\n",
       "      <td>40</td>\n",
       "      <td>m</td>\n",
       "      <td>40000</td>\n",
       "    </tr>\n",
       "  </tbody>\n",
       "</table>\n",
       "</div>"
      ],
      "text/plain": [
       "    name  age marital status  salary\n",
       "0  peter   30              s   10000\n",
       "1   mary   25              s   20000\n",
       "2   john   35              m   30000\n",
       "3    ben   40              m   40000"
      ]
     },
     "execution_count": 35,
     "metadata": {},
     "output_type": "execute_result"
    }
   ],
   "source": [
    "df1"
   ]
  },
  {
   "cell_type": "code",
   "execution_count": 37,
   "id": "220a5dc3",
   "metadata": {},
   "outputs": [
    {
     "name": "stdout",
     "output_type": "stream",
     "text": [
      "<class 'pandas.core.frame.DataFrame'>\n",
      "RangeIndex: 4 entries, 0 to 3\n",
      "Data columns (total 4 columns):\n",
      " #   Column          Non-Null Count  Dtype \n",
      "---  ------          --------------  ----- \n",
      " 0   name            4 non-null      object\n",
      " 1   age             4 non-null      int64 \n",
      " 2   marital status  4 non-null      object\n",
      " 3   salary          4 non-null      int64 \n",
      "dtypes: int64(2), object(2)\n",
      "memory usage: 256.0+ bytes\n"
     ]
    }
   ],
   "source": [
    "df1.info()"
   ]
  },
  {
   "cell_type": "code",
   "execution_count": null,
   "id": "6dcd8550",
   "metadata": {},
   "outputs": [],
   "source": [
    "# Adding a new column and cleaning the dates in data"
   ]
  },
  {
   "cell_type": "code",
   "execution_count": 38,
   "id": "c056e317",
   "metadata": {},
   "outputs": [],
   "source": [
    "dict3= {'name': ['peter','mary','john','ben'],\n",
    "        'date_of_birth':['27/09/1980', '01/10/1977','30/01/1965','15/03/1997'],\n",
    "      'marital status': ['s','s','m','m'],\n",
    "      'salary': [10000,20000,30000,40000]}"
   ]
  },
  {
   "cell_type": "code",
   "execution_count": 39,
   "id": "82bc83d0",
   "metadata": {},
   "outputs": [],
   "source": [
    "df3= pd.DataFrame(dict3)"
   ]
  },
  {
   "cell_type": "code",
   "execution_count": 40,
   "id": "5b7efc85",
   "metadata": {},
   "outputs": [
    {
     "data": {
      "text/html": [
       "<div>\n",
       "<style scoped>\n",
       "    .dataframe tbody tr th:only-of-type {\n",
       "        vertical-align: middle;\n",
       "    }\n",
       "\n",
       "    .dataframe tbody tr th {\n",
       "        vertical-align: top;\n",
       "    }\n",
       "\n",
       "    .dataframe thead th {\n",
       "        text-align: right;\n",
       "    }\n",
       "</style>\n",
       "<table border=\"1\" class=\"dataframe\">\n",
       "  <thead>\n",
       "    <tr style=\"text-align: right;\">\n",
       "      <th></th>\n",
       "      <th>name</th>\n",
       "      <th>date_of_birth</th>\n",
       "      <th>marital status</th>\n",
       "      <th>salary</th>\n",
       "    </tr>\n",
       "  </thead>\n",
       "  <tbody>\n",
       "    <tr>\n",
       "      <th>0</th>\n",
       "      <td>peter</td>\n",
       "      <td>27/09/1980</td>\n",
       "      <td>s</td>\n",
       "      <td>10000</td>\n",
       "    </tr>\n",
       "    <tr>\n",
       "      <th>1</th>\n",
       "      <td>mary</td>\n",
       "      <td>01/10/1977</td>\n",
       "      <td>s</td>\n",
       "      <td>20000</td>\n",
       "    </tr>\n",
       "    <tr>\n",
       "      <th>2</th>\n",
       "      <td>john</td>\n",
       "      <td>30/01/1965</td>\n",
       "      <td>m</td>\n",
       "      <td>30000</td>\n",
       "    </tr>\n",
       "    <tr>\n",
       "      <th>3</th>\n",
       "      <td>ben</td>\n",
       "      <td>15/03/1997</td>\n",
       "      <td>m</td>\n",
       "      <td>40000</td>\n",
       "    </tr>\n",
       "  </tbody>\n",
       "</table>\n",
       "</div>"
      ],
      "text/plain": [
       "    name date_of_birth marital status  salary\n",
       "0  peter    27/09/1980              s   10000\n",
       "1   mary    01/10/1977              s   20000\n",
       "2   john    30/01/1965              m   30000\n",
       "3    ben    15/03/1997              m   40000"
      ]
     },
     "execution_count": 40,
     "metadata": {},
     "output_type": "execute_result"
    }
   ],
   "source": [
    "df3"
   ]
  },
  {
   "cell_type": "code",
   "execution_count": 41,
   "id": "c7a24a5f",
   "metadata": {},
   "outputs": [
    {
     "name": "stdout",
     "output_type": "stream",
     "text": [
      "<class 'pandas.core.frame.DataFrame'>\n",
      "RangeIndex: 4 entries, 0 to 3\n",
      "Data columns (total 4 columns):\n",
      " #   Column          Non-Null Count  Dtype \n",
      "---  ------          --------------  ----- \n",
      " 0   name            4 non-null      object\n",
      " 1   date_of_birth   4 non-null      object\n",
      " 2   marital status  4 non-null      object\n",
      " 3   salary          4 non-null      int64 \n",
      "dtypes: int64(1), object(3)\n",
      "memory usage: 256.0+ bytes\n"
     ]
    }
   ],
   "source": [
    "df3.info()"
   ]
  },
  {
   "cell_type": "code",
   "execution_count": 42,
   "id": "ed1f8cce",
   "metadata": {},
   "outputs": [],
   "source": [
    "import datetime"
   ]
  },
  {
   "cell_type": "code",
   "execution_count": 44,
   "id": "bba5339a",
   "metadata": {},
   "outputs": [],
   "source": [
    "# to convert the column from object to datetime\n",
    "\n",
    "df3['date_of_birth']=pd.to_datetime(df3['date_of_birth'])\n"
   ]
  },
  {
   "cell_type": "code",
   "execution_count": 45,
   "id": "e1f68232",
   "metadata": {},
   "outputs": [
    {
     "data": {
      "text/html": [
       "<div>\n",
       "<style scoped>\n",
       "    .dataframe tbody tr th:only-of-type {\n",
       "        vertical-align: middle;\n",
       "    }\n",
       "\n",
       "    .dataframe tbody tr th {\n",
       "        vertical-align: top;\n",
       "    }\n",
       "\n",
       "    .dataframe thead th {\n",
       "        text-align: right;\n",
       "    }\n",
       "</style>\n",
       "<table border=\"1\" class=\"dataframe\">\n",
       "  <thead>\n",
       "    <tr style=\"text-align: right;\">\n",
       "      <th></th>\n",
       "      <th>name</th>\n",
       "      <th>date_of_birth</th>\n",
       "      <th>marital status</th>\n",
       "      <th>salary</th>\n",
       "    </tr>\n",
       "  </thead>\n",
       "  <tbody>\n",
       "    <tr>\n",
       "      <th>0</th>\n",
       "      <td>peter</td>\n",
       "      <td>1980-09-27</td>\n",
       "      <td>s</td>\n",
       "      <td>10000</td>\n",
       "    </tr>\n",
       "    <tr>\n",
       "      <th>1</th>\n",
       "      <td>mary</td>\n",
       "      <td>1977-01-10</td>\n",
       "      <td>s</td>\n",
       "      <td>20000</td>\n",
       "    </tr>\n",
       "    <tr>\n",
       "      <th>2</th>\n",
       "      <td>john</td>\n",
       "      <td>1965-01-30</td>\n",
       "      <td>m</td>\n",
       "      <td>30000</td>\n",
       "    </tr>\n",
       "    <tr>\n",
       "      <th>3</th>\n",
       "      <td>ben</td>\n",
       "      <td>1997-03-15</td>\n",
       "      <td>m</td>\n",
       "      <td>40000</td>\n",
       "    </tr>\n",
       "  </tbody>\n",
       "</table>\n",
       "</div>"
      ],
      "text/plain": [
       "    name date_of_birth marital status  salary\n",
       "0  peter    1980-09-27              s   10000\n",
       "1   mary    1977-01-10              s   20000\n",
       "2   john    1965-01-30              m   30000\n",
       "3    ben    1997-03-15              m   40000"
      ]
     },
     "execution_count": 45,
     "metadata": {},
     "output_type": "execute_result"
    }
   ],
   "source": [
    "df3"
   ]
  },
  {
   "cell_type": "code",
   "execution_count": 46,
   "id": "e40a21d8",
   "metadata": {},
   "outputs": [
    {
     "name": "stdout",
     "output_type": "stream",
     "text": [
      "<class 'pandas.core.frame.DataFrame'>\n",
      "RangeIndex: 4 entries, 0 to 3\n",
      "Data columns (total 4 columns):\n",
      " #   Column          Non-Null Count  Dtype         \n",
      "---  ------          --------------  -----         \n",
      " 0   name            4 non-null      object        \n",
      " 1   date_of_birth   4 non-null      datetime64[ns]\n",
      " 2   marital status  4 non-null      object        \n",
      " 3   salary          4 non-null      int64         \n",
      "dtypes: datetime64[ns](1), int64(1), object(2)\n",
      "memory usage: 256.0+ bytes\n"
     ]
    }
   ],
   "source": [
    "df3.info()"
   ]
  },
  {
   "cell_type": "code",
   "execution_count": null,
   "id": "28abdc77",
   "metadata": {},
   "outputs": [],
   "source": [
    "# Sepration of the date of birth into year, month and date\n",
    "\n",
    "N.B: dt means datetime (datatype)"
   ]
  },
  {
   "cell_type": "code",
   "execution_count": 50,
   "id": "4ead8f52",
   "metadata": {},
   "outputs": [],
   "source": [
    "df3['day']=df3['date_of_birth'].dt.day\n",
    "df3['month']=df3['date_of_birth'].dt.month\n",
    "df3['year']=df3['date_of_birth'].dt.year"
   ]
  },
  {
   "cell_type": "code",
   "execution_count": 51,
   "id": "759e5b92",
   "metadata": {},
   "outputs": [
    {
     "data": {
      "text/html": [
       "<div>\n",
       "<style scoped>\n",
       "    .dataframe tbody tr th:only-of-type {\n",
       "        vertical-align: middle;\n",
       "    }\n",
       "\n",
       "    .dataframe tbody tr th {\n",
       "        vertical-align: top;\n",
       "    }\n",
       "\n",
       "    .dataframe thead th {\n",
       "        text-align: right;\n",
       "    }\n",
       "</style>\n",
       "<table border=\"1\" class=\"dataframe\">\n",
       "  <thead>\n",
       "    <tr style=\"text-align: right;\">\n",
       "      <th></th>\n",
       "      <th>name</th>\n",
       "      <th>date_of_birth</th>\n",
       "      <th>marital status</th>\n",
       "      <th>salary</th>\n",
       "      <th>day</th>\n",
       "      <th>month</th>\n",
       "      <th>year</th>\n",
       "    </tr>\n",
       "  </thead>\n",
       "  <tbody>\n",
       "    <tr>\n",
       "      <th>0</th>\n",
       "      <td>peter</td>\n",
       "      <td>1980-09-27</td>\n",
       "      <td>s</td>\n",
       "      <td>10000</td>\n",
       "      <td>27</td>\n",
       "      <td>9</td>\n",
       "      <td>1980</td>\n",
       "    </tr>\n",
       "    <tr>\n",
       "      <th>1</th>\n",
       "      <td>mary</td>\n",
       "      <td>1977-01-10</td>\n",
       "      <td>s</td>\n",
       "      <td>20000</td>\n",
       "      <td>10</td>\n",
       "      <td>1</td>\n",
       "      <td>1977</td>\n",
       "    </tr>\n",
       "    <tr>\n",
       "      <th>2</th>\n",
       "      <td>john</td>\n",
       "      <td>1965-01-30</td>\n",
       "      <td>m</td>\n",
       "      <td>30000</td>\n",
       "      <td>30</td>\n",
       "      <td>1</td>\n",
       "      <td>1965</td>\n",
       "    </tr>\n",
       "    <tr>\n",
       "      <th>3</th>\n",
       "      <td>ben</td>\n",
       "      <td>1997-03-15</td>\n",
       "      <td>m</td>\n",
       "      <td>40000</td>\n",
       "      <td>15</td>\n",
       "      <td>3</td>\n",
       "      <td>1997</td>\n",
       "    </tr>\n",
       "  </tbody>\n",
       "</table>\n",
       "</div>"
      ],
      "text/plain": [
       "    name date_of_birth marital status  salary  day  month  year\n",
       "0  peter    1980-09-27              s   10000   27      9  1980\n",
       "1   mary    1977-01-10              s   20000   10      1  1977\n",
       "2   john    1965-01-30              m   30000   30      1  1965\n",
       "3    ben    1997-03-15              m   40000   15      3  1997"
      ]
     },
     "execution_count": 51,
     "metadata": {},
     "output_type": "execute_result"
    }
   ],
   "source": [
    "df3"
   ]
  },
  {
   "cell_type": "code",
   "execution_count": null,
   "id": "39cbf2fa",
   "metadata": {},
   "outputs": [],
   "source": []
  }
 ],
 "metadata": {
  "kernelspec": {
   "display_name": "Python 3 (ipykernel)",
   "language": "python",
   "name": "python3"
  },
  "language_info": {
   "codemirror_mode": {
    "name": "ipython",
    "version": 3
   },
   "file_extension": ".py",
   "mimetype": "text/x-python",
   "name": "python",
   "nbconvert_exporter": "python",
   "pygments_lexer": "ipython3",
   "version": "3.9.13"
  }
 },
 "nbformat": 4,
 "nbformat_minor": 5
}
